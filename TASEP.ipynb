{
 "cells": [
  {
   "cell_type": "code",
   "execution_count": 2,
   "metadata": {},
   "outputs": [],
   "source": [
    "import numpy as np\n",
    "import matplotlib.pyplot as plt\n",
    "import matplotlib.animation as animation"
   ]
  },
  {
   "cell_type": "markdown",
   "metadata": {},
   "source": [
    "**Proceso:**\n",
    "- Una calle y un sentido: Cada partícula avanza con probabilidad p solo si esta despejado."
   ]
  },
  {
   "cell_type": "markdown",
   "metadata": {},
   "source": [
    "**Queremos:**\n",
    "- Función que simule TASEP: recibe probabilidad de avanzar, si es secuencial o paralelo, tamaño de la calle, cantidad inicial de particulas y tasa de generación de particulas."
   ]
  },
  {
   "cell_type": "code",
   "execution_count": 3,
   "metadata": {},
   "outputs": [],
   "source": [
    "class Particula:\n",
    "\n",
    "    \"\"\"\n",
    "    Clase que representa una partícula en un sistema.\n",
    "    Atributos:\n",
    "    - posicion (int): La posición actual de la partícula.\n",
    "    - bloqueado (bool): Indica si la partícula está bloqueada o no.\n",
    "    Métodos:\n",
    "    - __init__(posicion: int, bloqueado: bool): Inicializa una nueva instancia de la clase Particula.\n",
    "    - avanzar(): Avanza la partícula una posición hacia adelante.\n",
    "    - __str__(): Devuelve una representación en cadena de la partícula como str.\n",
    "    \"\"\"\n",
    "\n",
    "    def __init__(self, posicion: int, bloqueado: bool) -> None:\n",
    "        self.posicion = posicion\n",
    "        self.bloqueado = bloqueado\n",
    "    \n",
    "    def avanzar(self) -> None:\n",
    "        self.posicion += 1\n",
    "\n",
    "    def __str__(self) -> str:\n",
    "        return f'Posición: {self.posicion}, Bloqueado: {self.bloqueado}'\n"
   ]
  },
  {
   "cell_type": "code",
   "execution_count": 4,
   "metadata": {},
   "outputs": [],
   "source": [
    "class Calle(list):\n",
    "\n",
    "    \"\"\"\n",
    "    Clase que representa una calle en un modelo de simulación TASEP.\n",
    "    Métodos:\n",
    "    - __init__(*args): Constructor de la clase.\n",
    "    - agregar_particula_inicio(): Agrega una partícula al inicio de la calle.\n",
    "    - update_bloqueo_casilla(i: int): Actualiza el estado de bloqueo de una casilla en la calle.\n",
    "    - update_bloqueo(): Actualiza el estado de bloqueo de todas las casillas en la calle.\n",
    "    - update_secuencial(p: float): Actualiza la posición de las partículas en la calle de forma secuencial.\n",
    "    - update_paralelo(p: float): Actualiza la posición de las partículas en la calle de forma paralela.\n",
    "    - plot(): Grafica la posición de las partículas en la calle.\n",
    "    - animate(n: int, p: float, mode: str): Genera una animación de la simulación.\n",
    "    - __str__(): Retorna una representación en cadena de la calle.\n",
    "    \"\"\"\n",
    "\n",
    "    def __init__(self, *args) -> None:\n",
    "        super().__init__(*args)\n",
    "\n",
    "    def agregar_particula_inicio(self) -> None:\n",
    "        self.insert(0, Particula(0, self[0].posicion == 1))\n",
    "\n",
    "    def update_bloqueo_casilla(self, i: int) -> None:\n",
    "        self[i].bloqueado = self[i+1].posicion == self[i].posicion + 1\n",
    "\n",
    "    def update_bloqueo(self) -> None:\n",
    "        for i in range(len(self) - 1):\n",
    "            self.update_bloqueo_casilla(i)\n",
    "    \n",
    "    def update_secuencial(self, p: float) -> None:\n",
    "        for i in range(len(self)-1, -1, -1):\n",
    "            if not self[i].bloqueado and np.random.rand() < p:\n",
    "                self[i].avanzar()\n",
    "                if i != len(self) - 1:\n",
    "                    self.update_bloqueo_casilla(i)\n",
    "                if i != 0:\n",
    "                    self[i-1].bloqueado = False\n",
    "\n",
    "    def update_paralelo(self, p: float) -> None:\n",
    "        for i in range(len(self)-1, -1, -1):\n",
    "            if not self[i].bloqueado:\n",
    "                if np.random.rand() < p:\n",
    "                    self[i].avanzar()\n",
    "        self.update_bloqueo()\n",
    "\n",
    "    def plot(self) -> None:\n",
    "        plt.plot([p.posicion for p in self], [0 for _ in self], 'ro')\n",
    "        plt.show()\n",
    "\n",
    "    def animate(self, n: int, p: float, mode: str) -> None:\n",
    "        fig, ax = plt.subplots()\n",
    "        line, = ax.plot([], [], 'ro')\n",
    "\n",
    "        def init():\n",
    "            ax.set_xlim(0, len(self))\n",
    "            ax.set_ylim(0, 1)\n",
    "            return line,\n",
    "\n",
    "        def update(frame):\n",
    "            if mode == 'secuencial':\n",
    "                self.update_secuencial(p)\n",
    "            elif mode == 'paralelo':\n",
    "                self.update_paralelo(p)\n",
    "            line.set_data([p.posicion for p in self], [0 for _ in self])\n",
    "            ax.set_xlim(0, len(self))\n",
    "            return line,\n",
    "\n",
    "        ani = animation.FuncAnimation(fig, update, frames=n, init_func=init, blit=True)\n",
    "        ani.save('animation.gif', writer='pillow')\n",
    "\n",
    "    def __str__(self) -> str:\n",
    "        return '\\n'.join([str(p) for p in self])"
   ]
  }
 ],
 "metadata": {
  "kernelspec": {
   "display_name": "simulacion",
   "language": "python",
   "name": "python3"
  },
  "language_info": {
   "codemirror_mode": {
    "name": "ipython",
    "version": 3
   },
   "file_extension": ".py",
   "mimetype": "text/x-python",
   "name": "python",
   "nbconvert_exporter": "python",
   "pygments_lexer": "ipython3",
   "version": "3.11.5"
  }
 },
 "nbformat": 4,
 "nbformat_minor": 2
}
