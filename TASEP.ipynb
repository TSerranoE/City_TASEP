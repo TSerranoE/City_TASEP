{
 "cells": [
  {
   "cell_type": "code",
   "execution_count": 1,
   "metadata": {},
   "outputs": [],
   "source": [
    "import numpy as np\n",
    "import matplotlib.pyplot as plt\n",
    "import matplotlib.animation as animation\n",
    "import random"
   ]
  },
  {
   "cell_type": "markdown",
   "metadata": {},
   "source": [
    "**Proceso:**\n",
    "- Una calle y un sentido: Cada partícula avanza con probabilidad p solo si esta despejado."
   ]
  },
  {
   "cell_type": "markdown",
   "metadata": {},
   "source": [
    "**Queremos:**\n",
    "- Función que simule TASEP: recibe probabilidad de avanzar, si es secuencial o paralelo, tamaño de la calle, cantidad inicial de particulas y tasa de generación de particulas."
   ]
  },
  {
   "cell_type": "code",
   "execution_count": 2,
   "metadata": {},
   "outputs": [],
   "source": [
    "class Particula:\n",
    "\n",
    "    \"\"\"\n",
    "    Clase que representa una partícula en un sistema.\n",
    "    Atributos:\n",
    "    - posicion (int): La posición actual de la partícula.\n",
    "    - bloqueado (bool): Indica si la partícula está bloqueada o no.\n",
    "    Métodos:\n",
    "    - __init__(posicion: int, bloqueado: bool): Inicializa una nueva instancia de la clase Particula.\n",
    "    - avanzar(): Avanza la partícula una posición hacia adelante.\n",
    "    - __str__(): Devuelve una representación en cadena de la partícula como str.\n",
    "    \"\"\"\n",
    "\n",
    "    def __init__(self, posicion: int, bloqueado: bool) -> None:\n",
    "        self.posicion = posicion\n",
    "        self.bloqueado = bloqueado\n",
    "    \n",
    "    def avanzar(self) -> None:\n",
    "        self.posicion += 1\n",
    "\n",
    "    def __str__(self) -> str:\n",
    "        return f'Posición: {self.posicion}, Bloqueado: {self.bloqueado}'\n"
   ]
  },
  {
   "cell_type": "code",
   "execution_count": 72,
   "metadata": {},
   "outputs": [],
   "source": [
    "class Interseccion():\n",
    "\n",
    "    def __init__(self, posicion: tuple, bloqueado: list, calles: tuple) -> None:\n",
    "        self.posicion = posicion\n",
    "        self.bloqueado = bloqueado\n",
    "        self.calles = calles\n",
    "\n",
    "    def __str__(self) -> str:\n",
    "        return f'Posición: {self.posicion}, Bloqueado: {self.bloqueado}'\n",
    "\n",
    "    def update_bloqueo(self, direccion):\n",
    "        self.calles[direccion].update_bloqueo()"
   ]
  },
  {
   "cell_type": "code",
   "execution_count": 80,
   "metadata": {},
   "outputs": [],
   "source": [
    "class Calle(list):\n",
    "\n",
    "    \"\"\"\n",
    "    Clase que representa una calle en un modelo de simulación TASEP.\n",
    "    Métodos:\n",
    "    - __init__(*args): Constructor de la clase.\n",
    "    - agregar_particula_inicio(): Agrega una partícula al inicio de la calle.\n",
    "    - update_bloqueo_casilla(i: int): Actualiza el estado de bloqueo de una casilla en la calle.\n",
    "    - update_bloqueo(): Actualiza el estado de bloqueo de todas las casillas en la calle.\n",
    "    - update_secuencial(p: float): Actualiza la posición de las partículas en la calle de forma secuencial.\n",
    "    - update_paralelo(p: float): Actualiza la posición de las partículas en la calle de forma paralela.\n",
    "    - plot(): Grafica la posición de las partículas en la calle.\n",
    "    - animate(n: int, p: float, mode: str): Genera una animación de la simulación.\n",
    "    - __str__(): Retorna una representación en cadena de la calle.\n",
    "    \"\"\"\n",
    "\n",
    "    def __init__(self, *args, direccion: int, intersecciones: list, posicion: int) -> None:\n",
    "        super().__init__(*args)\n",
    "        self.direccion = direccion\n",
    "        self.intersecciones = intersecciones\n",
    "        self.posicion = posicion\n",
    "\n",
    "    def agregar_particula_inicio(self) -> None:\n",
    "        self.insert(0, Particula(0, self[0].posicion == 1))\n",
    "\n",
    "    def agregar_interseccion(self, interseccion: Interseccion) -> None:\n",
    "        self.intersecciones.append(interseccion)\n",
    "\n",
    "    def update_estado_intersecciones(self) -> None:\n",
    "        for interseccion in self.intersecciones:\n",
    "            for particula in self:\n",
    "                if particula.posicion == interseccion.posicion[(self.direccion + 1) % 2]:\n",
    "                    interseccion.bloqueado[self.direccion] = True\n",
    "                    for particula_otra_calle in interseccion.calles[(self.direccion + 1) % 2]:\n",
    "                        if particula_otra_calle.posicion + 1 == interseccion.posicion[self.direccion]:\n",
    "                            particula_otra_calle.bloqueado = True\n",
    "                            break\n",
    "                    break\n",
    "\n",
    "    def update_bloqueo_casilla(self, i: int) -> None:\n",
    "        self[i].bloqueado = self[i+1].posicion == self[i].posicion + 1\n",
    "        if not self[i].bloqueado:\n",
    "            for interseccion in self.intersecciones:\n",
    "                self[i].bloqueado = self[i].posicion + 1 == interseccion.posicion[self.direccion] and interseccion.bloqueado[(self.direccion + 1) % 2]\n",
    "\n",
    "    def update_bloqueo(self) -> None:\n",
    "        for i in range(len(self) - 1):\n",
    "            self.update_bloqueo_casilla(i)\n",
    "    \n",
    "    def update_secuencial(self, p: float) -> None:\n",
    "        for i in range(len(self)-1, -1, -1):\n",
    "            if not self[i].bloqueado and np.random.rand() < p:\n",
    "                self[i].avanzar()\n",
    "                if i != len(self) - 1:\n",
    "                    self.update_bloqueo_casilla(i)\n",
    "                if i != 0:\n",
    "                    self[i-1].bloqueado = False\n",
    "        self.update_estado_intersecciones()\n",
    "\n",
    "    def update_paralelo(self, p: float) -> None:\n",
    "        for i in range(len(self)-1, -1, -1):\n",
    "            if not self[i].bloqueado:\n",
    "                if np.random.rand() < p:\n",
    "                    self[i].avanzar()\n",
    "        self.update_bloqueo()\n",
    "        self.update_estado_intersecciones()\n",
    "\n",
    "    def plot(self) -> None:\n",
    "        plt.plot([p.posicion for p in self], [0 for _ in self], 'ro')\n",
    "        plt.show()\n",
    "\n",
    "    def animate(self, n: int, p: float, mode: str) -> None:\n",
    "        fig, ax = plt.subplots()\n",
    "        line, = ax.plot([], [], 'ro')\n",
    "\n",
    "        def init():\n",
    "            ax.set_xlim(0, len(self))\n",
    "            ax.set_ylim(0, 1)\n",
    "            return line,\n",
    "\n",
    "        def update(frame):\n",
    "            if mode == 'secuencial':\n",
    "                self.update_secuencial(p)\n",
    "            elif mode == 'paralelo':\n",
    "                self.update_paralelo(p)\n",
    "            line.set_data([p.posicion for p in self], [0 for _ in self])\n",
    "            ax.set_xlim(0, len(self))\n",
    "            return line,\n",
    "\n",
    "        ani = animation.FuncAnimation(fig, update, frames=n, init_func=init, blit=True)\n",
    "        ani.save('animation.gif', writer='pillow')\n",
    "\n",
    "    def __str__(self) -> str:\n",
    "        return '\\n'.join([str(p) for p in self])"
   ]
  },
  {
   "cell_type": "code",
   "execution_count": 81,
   "metadata": {},
   "outputs": [],
   "source": [
    "class Calles():\n",
    "\n",
    "    def __init__(self, calles: list) -> None:\n",
    "        self.calles = calles\n",
    "        self.calles_x = [c for c in calles if c.direccion == 0]\n",
    "        self.calles_y = [c for c in calles if c.direccion == 1]\n",
    "        self.intersecciones = []\n",
    "\n",
    "    def update_intersecciones(self) -> None:\n",
    "        for calle_x in self.calles_x:\n",
    "            for calle_y in self.calles_y:\n",
    "                choque_x = False\n",
    "                choque_y = False\n",
    "                for particula in calle_x:\n",
    "                    if particula.posicion == calle_y.posicion:\n",
    "                        choque_x = True\n",
    "                        break\n",
    "                for particula in calle_y:\n",
    "                    if particula.posicion == calle_x.posicion:\n",
    "                        choque_y = True\n",
    "                        break\n",
    "                if choque_x and choque_y:\n",
    "                    raise ValueError('Hay un choque')         \n",
    "                interseccion = Interseccion((calle_x.posicion, calle_y.posicion), [choque_x, choque_y], (calle_x, calle_y))\n",
    "                calle_x.agregar_interseccion(interseccion)\n",
    "                calle_y.agregar_interseccion(interseccion)\n",
    "                self.intersecciones.append(interseccion)\n",
    "\n",
    "    def update_bloqueos(self) -> None:\n",
    "        for calle in self.calles:\n",
    "            calle.update_bloqueo()\n",
    "\n",
    "    def update_estado_intersecciones(self) -> None:\n",
    "        for calle in self.calles:\n",
    "            calle.update_estado_intersecciones()\n",
    "\n",
    "    def update_secuencial(self, p: float) -> None:\n",
    "        for calle in self.calles:\n",
    "            calle.update_secuencial(p)\n",
    "            calle.update_bloqueo()\n",
    "\n",
    "    def update_paralelo(self, p: float) -> None:\n",
    "        calles_copy = self.calles.copy()\n",
    "        random.shuffle(calles_copy)\n",
    "        for calle in calles_copy:\n",
    "            calle.update_paralelo(p)\n",
    "            calle.udpate_bloqueo()\n",
    "\n",
    "    def plot(self) -> None:\n",
    "        for calle in self.calles:\n",
    "            calle.plot()"
   ]
  },
  {
   "cell_type": "code",
   "execution_count": 82,
   "metadata": {},
   "outputs": [],
   "source": [
    "calles = Calles([Calle([Particula(0,0), Particula(2,0)], direccion=0, intersecciones=[], posicion=3),\n",
    "                 Calle([Particula(0,0), Particula(1,0)], direccion=1, intersecciones=[], posicion=4)])\n",
    "calles.update_bloqueos()\n",
    "calles.update_intersecciones()"
   ]
  },
  {
   "cell_type": "code",
   "execution_count": 83,
   "metadata": {},
   "outputs": [
    {
     "name": "stdout",
     "output_type": "stream",
     "text": [
      "Posición: (3, 4), Bloqueado: [False, False]\n"
     ]
    }
   ],
   "source": [
    "for interseccion in calles.intersecciones:\n",
    "    print(str(interseccion))"
   ]
  },
  {
   "cell_type": "code",
   "execution_count": 84,
   "metadata": {},
   "outputs": [
    {
     "name": "stdout",
     "output_type": "stream",
     "text": [
      "Posición: 0, Bloqueado: True\n",
      "Posición: 1, Bloqueado: 0\n"
     ]
    }
   ],
   "source": [
    "print(str(calles.calles[1]))"
   ]
  },
  {
   "cell_type": "code",
   "execution_count": 86,
   "metadata": {},
   "outputs": [
    {
     "name": "stdout",
     "output_type": "stream",
     "text": [
      "-------------------\n",
      "Posición: 2, Bloqueado: False\n",
      "Posición: 4, Bloqueado: 0\n",
      "Posición: 1, Bloqueado: True\n",
      "Posición: 2, Bloqueado: True\n",
      "Posición: (3, 4), Bloqueado: [True, False]\n",
      "-------------------\n"
     ]
    }
   ],
   "source": [
    "calles.update_secuencial(0.9)\n",
    "print('-------------------')\n",
    "print(str(calles.calles[0]))\n",
    "print(str(calles.calles[1]))\n",
    "for interseccion in calles.intersecciones:\n",
    "    print(str(interseccion))\n",
    "print('-------------------')"
   ]
  },
  {
   "cell_type": "code",
   "execution_count": null,
   "metadata": {},
   "outputs": [],
   "source": []
  },
  {
   "cell_type": "code",
   "execution_count": null,
   "metadata": {},
   "outputs": [],
   "source": []
  }
 ],
 "metadata": {
  "kernelspec": {
   "display_name": "base",
   "language": "python",
   "name": "python3"
  },
  "language_info": {
   "codemirror_mode": {
    "name": "ipython",
    "version": 3
   },
   "file_extension": ".py",
   "mimetype": "text/x-python",
   "name": "python",
   "nbconvert_exporter": "python",
   "pygments_lexer": "ipython3",
   "version": "3.11.5"
  }
 },
 "nbformat": 4,
 "nbformat_minor": 2
}
