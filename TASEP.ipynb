{
 "cells": [
  {
   "cell_type": "code",
   "execution_count": 1,
   "metadata": {},
   "outputs": [
    {
     "ename": "ModuleNotFoundError",
     "evalue": "No module named 'Interseccion'",
     "output_type": "error",
     "traceback": [
      "\u001b[0;31m---------------------------------------------------------------------------\u001b[0m",
      "\u001b[0;31mModuleNotFoundError\u001b[0m                       Traceback (most recent call last)",
      "Cell \u001b[0;32mIn[1], line 7\u001b[0m\n\u001b[1;32m      5\u001b[0m \u001b[38;5;28;01mfrom\u001b[39;00m \u001b[38;5;21;01mBACKEND\u001b[39;00m\u001b[38;5;21;01m.\u001b[39;00m\u001b[38;5;21;01mParticula\u001b[39;00m \u001b[38;5;28;01mimport\u001b[39;00m Particula\n\u001b[1;32m      6\u001b[0m \u001b[38;5;28;01mfrom\u001b[39;00m \u001b[38;5;21;01mBACKEND\u001b[39;00m\u001b[38;5;21;01m.\u001b[39;00m\u001b[38;5;21;01mInterseccion\u001b[39;00m \u001b[38;5;28;01mimport\u001b[39;00m Interseccion\n\u001b[0;32m----> 7\u001b[0m \u001b[38;5;28;01mfrom\u001b[39;00m \u001b[38;5;21;01mBACKEND\u001b[39;00m\u001b[38;5;21;01m.\u001b[39;00m\u001b[38;5;21;01mCalle\u001b[39;00m \u001b[38;5;28;01mimport\u001b[39;00m Calle\n\u001b[1;32m      8\u001b[0m \u001b[38;5;28;01mfrom\u001b[39;00m \u001b[38;5;21;01mBACKEND\u001b[39;00m\u001b[38;5;21;01m.\u001b[39;00m\u001b[38;5;21;01mCalles\u001b[39;00m \u001b[38;5;28;01mimport\u001b[39;00m Calles\n",
      "File \u001b[0;32m~/Drive/SB/2-Universidad/8-OctavoSemestre/Simulacion/Proyecto_TASEP/BACKEND/Calle.py:4\u001b[0m\n\u001b[1;32m      2\u001b[0m \u001b[38;5;28;01mimport\u001b[39;00m \u001b[38;5;21;01mmatplotlib\u001b[39;00m\u001b[38;5;21;01m.\u001b[39;00m\u001b[38;5;21;01mpyplot\u001b[39;00m \u001b[38;5;28;01mas\u001b[39;00m \u001b[38;5;21;01mplt\u001b[39;00m\n\u001b[1;32m      3\u001b[0m \u001b[38;5;28;01mimport\u001b[39;00m \u001b[38;5;21;01mmatplotlib\u001b[39;00m\u001b[38;5;21;01m.\u001b[39;00m\u001b[38;5;21;01manimation\u001b[39;00m \u001b[38;5;28;01mas\u001b[39;00m \u001b[38;5;21;01manimation\u001b[39;00m\n\u001b[0;32m----> 4\u001b[0m \u001b[38;5;28;01mfrom\u001b[39;00m \u001b[38;5;21;01mInterseccion\u001b[39;00m \u001b[38;5;28;01mimport\u001b[39;00m Interseccion\n\u001b[1;32m      5\u001b[0m \u001b[38;5;28;01mfrom\u001b[39;00m \u001b[38;5;21;01mParticula\u001b[39;00m \u001b[38;5;28;01mimport\u001b[39;00m Particula\n\u001b[1;32m      6\u001b[0m \u001b[38;5;28;01mclass\u001b[39;00m \u001b[38;5;21;01mCalle\u001b[39;00m(\u001b[38;5;28mlist\u001b[39m):\n",
      "\u001b[0;31mModuleNotFoundError\u001b[0m: No module named 'Interseccion'"
     ]
    }
   ],
   "source": [
    "import numpy as np\n",
    "import matplotlib.pyplot as plt\n",
    "import matplotlib.animation as animation\n",
    "import random\n",
    "from BACKEND.Particula import Particula\n",
    "from BACKEND.Interseccion import Interseccion\n",
    "from BACKEND.Calle import Calle\n",
    "from BACKEND.Calles import Calles"
   ]
  },
  {
   "cell_type": "markdown",
   "metadata": {},
   "source": [
    "**Proceso:**\n",
    "- Una calle y un sentido: Cada partícula avanza con probabilidad p solo si esta despejado."
   ]
  },
  {
   "cell_type": "markdown",
   "metadata": {},
   "source": [
    "**Queremos:**\n",
    "- Función que simule TASEP: recibe probabilidad de avanzar, si es secuencial o paralelo, tamaño de la calle, cantidad inicial de particulas y tasa de generación de particulas."
   ]
  },
  {
   "cell_type": "code",
   "execution_count": 20,
   "metadata": {},
   "outputs": [
    {
     "name": "stdout",
     "output_type": "stream",
     "text": [
      "Posición: 0, Bloqueado: False\n",
      "Posición: 2, Bloqueado: False\n",
      "Posición: 0, Bloqueado: False\n",
      "Posición: 2, Bloqueado: False\n",
      "Posición: 0, Bloqueado: True\n",
      "Posición: 1, Bloqueado: False\n",
      "Posición: (3, 4), Bloqueado: [False, False]\n",
      "Posición: (4, 4), Bloqueado: [False, False]\n"
     ]
    }
   ],
   "source": [
    "calles = Calles([Calle([Particula(0,False), Particula(2,False)], direccion=0, intersecciones=[], posicion=3),\n",
    "                 Calle([Particula(0,False), Particula(2,False)], direccion=0, intersecciones=[], posicion=4),\n",
    "                 Calle([Particula(0,False), Particula(1,False)], direccion=1, intersecciones=[], posicion=4)])\n",
    "calles.update_bloqueos()\n",
    "calles.update_intersecciones()\n",
    "for calle in calles.calles:\n",
    "    print(str(calle))\n",
    "for interseccion in calles.intersecciones:\n",
    "    print(str(interseccion))\n"
   ]
  },
  {
   "cell_type": "code",
   "execution_count": 33,
   "metadata": {},
   "outputs": [
    {
     "name": "stdout",
     "output_type": "stream",
     "text": [
      "-------------------\n",
      "Posición: 7, Bloqueado: False\n",
      "Posición: 12, Bloqueado: False\n",
      "Posición: 10, Bloqueado: False\n",
      "Posición: 12, Bloqueado: False\n",
      "Posición: (3, 4), Bloqueado: [False, False]\n",
      "Posición: (4, 4), Bloqueado: [False, False]\n",
      "-------------------\n"
     ]
    },
    {
     "data": {
      "image/png": "[encoded data removed]",
      "text/plain": [
       "<Figure size 800x800 with 1 Axes>"
      ]
     },
     "metadata": {},
     "output_type": "display_data"
    },
    {
     "ename": "AttributeError",
     "evalue": "'Calles' object has no attribute 'delete_particulas_posicion'",
     "output_type": "error",
     "traceback": [
      "\u001b[0;31m---------------------------------------------------------------------------\u001b[0m",
      "\u001b[0;31mAttributeError\u001b[0m                            Traceback (most recent call last)",
      "Cell \u001b[0;32mIn[33], line 10\u001b[0m\n\u001b[1;32m      8\u001b[0m \u001b[38;5;28mprint\u001b[39m(\u001b[38;5;124m'\u001b[39m\u001b[38;5;124m-------------------\u001b[39m\u001b[38;5;124m'\u001b[39m)\n\u001b[1;32m      9\u001b[0m calles\u001b[38;5;241m.\u001b[39mplot_2d()\n\u001b[0;32m---> 10\u001b[0m \u001b[43mcalles\u001b[49m\u001b[38;5;241;43m.\u001b[39;49m\u001b[43mdelete_particulas_posicion\u001b[49m(\u001b[38;5;241m8\u001b[39m)\n",
      "\u001b[0;31mAttributeError\u001b[0m: 'Calles' object has no attribute 'delete_particulas_posicion'"
     ]
    }
   ],
   "source": [
    "calles.update_secuencial(1)\n",
    "print('-------------------')\n",
    "print(str(calles.calles[0]))\n",
    "print(str(calles.calles[1]))\n",
    "#print(str(calles.calles[2]))\n",
    "for interseccion in calles.intersecciones:\n",
    "    print(str(interseccion))\n",
    "print('-------------------')\n",
    "calles.plot_2d()\n",
    "calles.delete_particulas_posicion(8)\n"
   ]
  },
  {
   "cell_type": "code",
   "execution_count": 13,
   "metadata": {},
   "outputs": [],
   "source": [
    "calles = Calles([Calle([], direccion=0, intersecciones=[], posicion=3),\n",
    "                 Calle([], direccion=0, intersecciones=[], posicion=4),\n",
    "                 Calle([], direccion=1, intersecciones=[], posicion=4)])"
   ]
  },
  {
   "cell_type": "code",
   "execution_count": 14,
   "metadata": {},
   "outputs": [],
   "source": [
    "import time\n",
    "def run_simulation(calles):\n",
    "    id = 0\n",
    "    while True:\n",
    "        time.sleep(1)\n",
    "        particulas_agregadas = calles.agregar_particulas_inicio(id)\n",
    "        if len(particulas_agregadas) != 0:\n",
    "            id = particulas_agregadas[-1].id + 1\n",
    "        diccionario_particulas_agregadas = {}\n",
    "        for particula in particulas_agregadas:\n",
    "            direccion = particula.calle.direccion\n",
    "            if direccion == 0:\n",
    "                color = 'blue'\n",
    "                columna = particula.calle.posicion\n",
    "                fila = particula.posicion\n",
    "            else:\n",
    "                color = 'red'\n",
    "                fila = particula.calle.posicion\n",
    "                columna = particula.posicion\n",
    "            diccionario_particulas_agregadas[particula.id] = {'row': fila, 'col': columna, 'color': color, 'id': particula.id}\n",
    "        calles.update_secuencial(0.5)\n",
    "        particulas = calles.get_particulas()\n",
    "        diccionario_particulas = {}\n",
    "        for particula in particulas:\n",
    "            direccion = particula.calle.direccion\n",
    "            if direccion == 0:\n",
    "                columna = particula.calle.posicion\n",
    "                fila = particula.posicion\n",
    "            else:\n",
    "                fila = particula.calle.posicion\n",
    "                columna = particula.posicion\n",
    "            diccionario_particulas[particula.id] = {'id': particula.id, 'new_row': fila, 'new_col': columna}\n",
    "        yield ({\"particulas\": diccionario_particulas, \"particulas_agregadas\": diccionario_particulas_agregadas})"
   ]
  },
  {
   "cell_type": "code",
   "execution_count": 15,
   "metadata": {},
   "outputs": [],
   "source": [
    "def hola():\n",
    "    return run_simulation(calles)"
   ]
  },
  {
   "cell_type": "code",
   "execution_count": 18,
   "metadata": {},
   "outputs": [
    {
     "data": {
      "text/plain": [
       "<generator object run_simulation at 0x780a54b20890>"
      ]
     },
     "execution_count": 18,
     "metadata": {},
     "output_type": "execute_result"
    }
   ],
   "source": [
    "hola()"
   ]
  }
 ],
 "metadata": {
  "kernelspec": {
   "display_name": "base",
   "language": "python",
   "name": "python3"
  },
  "language_info": {
   "codemirror_mode": {
    "name": "ipython",
    "version": 3
   },
   "file_extension": ".py",
   "mimetype": "text/x-python",
   "name": "python",
   "nbconvert_exporter": "python",
   "pygments_lexer": "ipython3",
   "version": "3.12.4"
  }
 },
 "nbformat": 4,
 "nbformat_minor": 2
}
